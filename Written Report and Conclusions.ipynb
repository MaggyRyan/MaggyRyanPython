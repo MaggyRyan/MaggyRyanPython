{
 "cells": [
  {
   "cell_type": "markdown",
   "metadata": {},
   "source": [
    "# Introduction\n",
    "\n",
    "Attending UC Davis as a freshman can be an overwhemling experience. UC Davis has over 100 majors to pick from. As a students who initially entered as an \"Undeclared - Physical Sciences\" major, I spent a lot of time in my first three years taking courses at random, searching for something that I enjoyed studying. I realized that I would "
   ]
  },
  {
   "cell_type": "markdown",
   "metadata": {},
   "source": [
    "# Questions\n",
    "The two questions that I wanted to answer were as follows:\n",
    "\n",
    "1) What are the most common prerequisite lower-division courses at University of California, Davis for each undergraduate college?\n",
    "\n",
    "2) What are the best 6 courses to take as a first-year undergraduate to minimize the chance of “wasted” units?"
   ]
  },
  {
   "cell_type": "markdown",
   "metadata": {},
   "source": [
    "# Data Collection\n",
    "\n",
    "I started by creating a function that would extract the text for each UC Davis Undergraduate major from the General Course Catalogue. Because there was so much text on each webpage that I did not need to use, I found a way to extract only the data that I needed: information on which lower-division prerequisite courses were needed for the each major.\n",
    "\n",
    "My next step was to extract a list of links to all of the UC Davis majors instead of pasting them each into my function by hand. I found a website that linked each of the major pages. I was able to extract the links for each major and put them into a list that I then fed through my extraction function.\n",
    "\n",
    "When I had done the initial data extraction, I exported each of the files to a csv.\n",
    "\n",
    "The College of Letters and Science required a little more work. Because of the sheer volume of the unrelated majors, I put each of the majors into one of four categories: Fine Arts, Social Sciences, Physical Sciences, or Humanties. I did this as each entering student in the College of Letters and Science with an \"Undeclared\" major must pick a general subject area he or she will be admitted under. This was unnecessary for the other undergraduate colleges as the Colleges of Biological Sciences and Agriculture and Environmental Sciences have only one \"Undeclared\" major each, and the College of Engineering does not offer the option for an undeclared major. In order to do this, I used a series of keywords to sort the majors rather than adding each of them to their category by hand. Each of sublists within the College of Letters and Science was exported to a csv file as well."
   ]
  },
  {
   "cell_type": "markdown",
   "metadata": {},
   "source": [
    "# Visualization\n",
    "\n",
    "There were two general topics that I wanted to visualize:\n",
    "\n",
    "First, what was the most common subject area for lower-division pre-requisite courses for each UC Davis undergraduate college. Second, what were the 20 most common courses for each UC Davis undergraduate college. In addition to the general college requirements, I also created visuilizations for each of the four major area subcategories in the College of Letters and Science.\n",
    "\n",
    "For the first point I chose to create a series of wordclouds. I only looked at the subject area (not the specific class number).\n",
    "\n",
    "For the second point I chose to create a series of barplots. This is because I wanted to see the number of each subject area and class number to quantify which courses would be most useful."
   ]
  },
  {
   "cell_type": "markdown",
   "metadata": {},
   "source": [
    "# Addressing Question 1\n",
    "\n",
    "1) What are the most common prerequisite lower-division courses at University of California, Davis for each undergraduate college?\n",
    "\n",
    "I defined \"prerequisite lower-division\" courses as any course that was listed as any lower-division course required for that major. This is becuase entering Freshman cannot take upper-division courses their first year.\n",
    "\n",
    "Looking at the word cloud rerepresenting all of the lower-division prerequisite courses, you can see that UC Davis weighs more heavity on STEM majors than any other. The most prominent words are \"Chemistry\", \"Physics, \"Mathematics' and \"Biological Sciences\". Upon further reflection, this makes sense as all of the classes in the College of Engineering require Mathematics, Physics, and Chemistry courses. The College of Biological Science has a series \"Biological Sciences\" classes as a requirement for each of their majors. There are also several majors from the College of Agriculture and Environmental Science and College of Letters and Science that require classes from the \"Biological Science\" subject area.\n",
    "\n",
    "We can see by looking at the wordcloud for the College of Engineering that each undergraduate will need to take several \"Mathematics\", \"Chemistry\", and \"Physics\" courses. Interestingly, we also see \"Comparitive Literature\" and \"University Writing Program\" displayed fairly prominently."
   ]
  },
  {
   "cell_type": "markdown",
   "metadata": {},
   "source": [
    "# Addressing Question 2:\n",
    "\n",
    "Students in the College of Engineering should take: MAT21A, CHE 2A, PHY 9A, \n",
    "\n"
   ]
  },
  {
   "cell_type": "markdown",
   "metadata": {},
   "source": [
    "# Conclusion\n"
   ]
  }
 ],
 "metadata": {
  "kernelspec": {
   "display_name": "Python 3",
   "language": "python",
   "name": "python3"
  },
  "language_info": {
   "codemirror_mode": {
    "name": "ipython",
    "version": 3
   },
   "file_extension": ".py",
   "mimetype": "text/x-python",
   "name": "python",
   "nbconvert_exporter": "python",
   "pygments_lexer": "ipython3",
   "version": "3.6.3"
  }
 },
 "nbformat": 4,
 "nbformat_minor": 2
}
